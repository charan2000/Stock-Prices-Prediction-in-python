{
 "cells": [
  {
   "cell_type": "code",
   "execution_count": 1,
   "metadata": {},
   "outputs": [],
   "source": [
    "import numpy as np \n",
    "import pandas as pd \n",
    "from sklearn.linear_model import LinearRegression\n",
    "from sklearn.svm import SVR\n",
    "from sklearn.model_selection import train_test_split\n",
    "import matplotlib.pyplot as plt\n",
    "import datetime as dt\n",
    "import yfinance as yf"
   ]
  },
  {
   "cell_type": "code",
   "execution_count": 2,
   "metadata": {},
   "outputs": [],
   "source": [
    "company = yf.Ticker(\"SBIN.NS\")"
   ]
  },
  {
   "cell_type": "code",
   "execution_count": null,
   "metadata": {},
   "outputs": [],
   "source": [
    "#start_date = input(\"Enter the starting date in yyyy/mm/dd format : \")\n",
    "#end_date = input(\"Enter the end date : \")"
   ]
  },
  {
   "cell_type": "code",
   "execution_count": null,
   "metadata": {},
   "outputs": [],
   "source": [
    "## Start and Ending of the dataset"
   ]
  },
  {
   "cell_type": "code",
   "execution_count": 3,
   "metadata": {},
   "outputs": [],
   "source": [
    "dff = company.history(period=\"1y\")"
   ]
  },
  {
   "cell_type": "code",
   "execution_count": 4,
   "metadata": {},
   "outputs": [
    {
     "data": {
      "text/html": [
       "<div>\n",
       "<style scoped>\n",
       "    .dataframe tbody tr th:only-of-type {\n",
       "        vertical-align: middle;\n",
       "    }\n",
       "\n",
       "    .dataframe tbody tr th {\n",
       "        vertical-align: top;\n",
       "    }\n",
       "\n",
       "    .dataframe thead th {\n",
       "        text-align: right;\n",
       "    }\n",
       "</style>\n",
       "<table border=\"1\" class=\"dataframe\">\n",
       "  <thead>\n",
       "    <tr style=\"text-align: right;\">\n",
       "      <th></th>\n",
       "      <th>Open</th>\n",
       "      <th>High</th>\n",
       "      <th>Low</th>\n",
       "      <th>Close</th>\n",
       "      <th>Volume</th>\n",
       "      <th>Dividends</th>\n",
       "      <th>Stock Splits</th>\n",
       "    </tr>\n",
       "    <tr>\n",
       "      <th>Date</th>\n",
       "      <th></th>\n",
       "      <th></th>\n",
       "      <th></th>\n",
       "      <th></th>\n",
       "      <th></th>\n",
       "      <th></th>\n",
       "      <th></th>\n",
       "    </tr>\n",
       "  </thead>\n",
       "  <tbody>\n",
       "    <tr>\n",
       "      <th>2020-05-28</th>\n",
       "      <td>159.449997</td>\n",
       "      <td>162.399994</td>\n",
       "      <td>156.699997</td>\n",
       "      <td>158.199997</td>\n",
       "      <td>76968678</td>\n",
       "      <td>0</td>\n",
       "      <td>0</td>\n",
       "    </tr>\n",
       "    <tr>\n",
       "      <th>2020-05-29</th>\n",
       "      <td>156.100006</td>\n",
       "      <td>161.899994</td>\n",
       "      <td>155.199997</td>\n",
       "      <td>161.300003</td>\n",
       "      <td>58363280</td>\n",
       "      <td>0</td>\n",
       "      <td>0</td>\n",
       "    </tr>\n",
       "    <tr>\n",
       "      <th>2020-06-01</th>\n",
       "      <td>164.000000</td>\n",
       "      <td>171.399994</td>\n",
       "      <td>163.350006</td>\n",
       "      <td>170.050003</td>\n",
       "      <td>92740893</td>\n",
       "      <td>0</td>\n",
       "      <td>0</td>\n",
       "    </tr>\n",
       "    <tr>\n",
       "      <th>2020-06-02</th>\n",
       "      <td>169.899994</td>\n",
       "      <td>171.300003</td>\n",
       "      <td>167.199997</td>\n",
       "      <td>170.250000</td>\n",
       "      <td>70419104</td>\n",
       "      <td>0</td>\n",
       "      <td>0</td>\n",
       "    </tr>\n",
       "    <tr>\n",
       "      <th>2020-06-03</th>\n",
       "      <td>172.500000</td>\n",
       "      <td>179.899994</td>\n",
       "      <td>172.000000</td>\n",
       "      <td>174.899994</td>\n",
       "      <td>113168889</td>\n",
       "      <td>0</td>\n",
       "      <td>0</td>\n",
       "    </tr>\n",
       "  </tbody>\n",
       "</table>\n",
       "</div>"
      ],
      "text/plain": [
       "                  Open        High         Low       Close     Volume  \\\n",
       "Date                                                                    \n",
       "2020-05-28  159.449997  162.399994  156.699997  158.199997   76968678   \n",
       "2020-05-29  156.100006  161.899994  155.199997  161.300003   58363280   \n",
       "2020-06-01  164.000000  171.399994  163.350006  170.050003   92740893   \n",
       "2020-06-02  169.899994  171.300003  167.199997  170.250000   70419104   \n",
       "2020-06-03  172.500000  179.899994  172.000000  174.899994  113168889   \n",
       "\n",
       "            Dividends  Stock Splits  \n",
       "Date                                 \n",
       "2020-05-28          0             0  \n",
       "2020-05-29          0             0  \n",
       "2020-06-01          0             0  \n",
       "2020-06-02          0             0  \n",
       "2020-06-03          0             0  "
      ]
     },
     "execution_count": 4,
     "metadata": {},
     "output_type": "execute_result"
    }
   ],
   "source": [
    "dff.head()"
   ]
  },
  {
   "cell_type": "code",
   "execution_count": 5,
   "metadata": {},
   "outputs": [],
   "source": [
    "df = dff[['Open']]"
   ]
  },
  {
   "cell_type": "code",
   "execution_count": 18,
   "metadata": {},
   "outputs": [
    {
     "name": "stderr",
     "output_type": "stream",
     "text": [
      "<ipython-input-18-b02694ebfdc6>:5: SettingWithCopyWarning: \n",
      "A value is trying to be set on a copy of a slice from a DataFrame.\n",
      "Try using .loc[row_indexer,col_indexer] = value instead\n",
      "\n",
      "See the caveats in the documentation: https://pandas.pydata.org/pandas-docs/stable/user_guide/indexing.html#returning-a-view-versus-a-copy\n",
      "  df['Prediction'] = dff[['Open']].shift(-cast_out)\n"
     ]
    },
    {
     "data": {
      "text/html": [
       "<div>\n",
       "<style scoped>\n",
       "    .dataframe tbody tr th:only-of-type {\n",
       "        vertical-align: middle;\n",
       "    }\n",
       "\n",
       "    .dataframe tbody tr th {\n",
       "        vertical-align: top;\n",
       "    }\n",
       "\n",
       "    .dataframe thead th {\n",
       "        text-align: right;\n",
       "    }\n",
       "</style>\n",
       "<table border=\"1\" class=\"dataframe\">\n",
       "  <thead>\n",
       "    <tr style=\"text-align: right;\">\n",
       "      <th></th>\n",
       "      <th>Open</th>\n",
       "      <th>Prediction</th>\n",
       "    </tr>\n",
       "    <tr>\n",
       "      <th>Date</th>\n",
       "      <th></th>\n",
       "      <th></th>\n",
       "    </tr>\n",
       "  </thead>\n",
       "  <tbody>\n",
       "    <tr>\n",
       "      <th>2020-05-28</th>\n",
       "      <td>159.449997</td>\n",
       "      <td>188.000000</td>\n",
       "    </tr>\n",
       "    <tr>\n",
       "      <th>2020-05-29</th>\n",
       "      <td>156.100006</td>\n",
       "      <td>170.000000</td>\n",
       "    </tr>\n",
       "    <tr>\n",
       "      <th>2020-06-01</th>\n",
       "      <td>164.000000</td>\n",
       "      <td>177.850006</td>\n",
       "    </tr>\n",
       "    <tr>\n",
       "      <th>2020-06-02</th>\n",
       "      <td>169.899994</td>\n",
       "      <td>178.000000</td>\n",
       "    </tr>\n",
       "    <tr>\n",
       "      <th>2020-06-03</th>\n",
       "      <td>172.500000</td>\n",
       "      <td>171.000000</td>\n",
       "    </tr>\n",
       "    <tr>\n",
       "      <th>...</th>\n",
       "      <td>...</td>\n",
       "      <td>...</td>\n",
       "    </tr>\n",
       "    <tr>\n",
       "      <th>2021-05-24</th>\n",
       "      <td>417.000000</td>\n",
       "      <td>NaN</td>\n",
       "    </tr>\n",
       "    <tr>\n",
       "      <th>2021-05-25</th>\n",
       "      <td>415.100006</td>\n",
       "      <td>NaN</td>\n",
       "    </tr>\n",
       "    <tr>\n",
       "      <th>2021-05-26</th>\n",
       "      <td>413.799988</td>\n",
       "      <td>NaN</td>\n",
       "    </tr>\n",
       "    <tr>\n",
       "      <th>2021-05-27</th>\n",
       "      <td>413.700012</td>\n",
       "      <td>NaN</td>\n",
       "    </tr>\n",
       "    <tr>\n",
       "      <th>2021-05-28</th>\n",
       "      <td>430.500000</td>\n",
       "      <td>NaN</td>\n",
       "    </tr>\n",
       "  </tbody>\n",
       "</table>\n",
       "<p>251 rows × 2 columns</p>\n",
       "</div>"
      ],
      "text/plain": [
       "                  Open  Prediction\n",
       "Date                              \n",
       "2020-05-28  159.449997  188.000000\n",
       "2020-05-29  156.100006  170.000000\n",
       "2020-06-01  164.000000  177.850006\n",
       "2020-06-02  169.899994  178.000000\n",
       "2020-06-03  172.500000  171.000000\n",
       "...                ...         ...\n",
       "2021-05-24  417.000000         NaN\n",
       "2021-05-25  415.100006         NaN\n",
       "2021-05-26  413.799988         NaN\n",
       "2021-05-27  413.700012         NaN\n",
       "2021-05-28  430.500000         NaN\n",
       "\n",
       "[251 rows x 2 columns]"
      ]
     },
     "execution_count": 18,
     "metadata": {},
     "output_type": "execute_result"
    }
   ],
   "source": [
    "#Variable for Predicting Some days\n",
    "cast_out = 10\n",
    "\n",
    "#Another Colomn\n",
    "df['Prediction'] = dff[['Open']].shift(-cast_out)\n",
    "df"
   ]
  },
  {
   "cell_type": "code",
   "execution_count": 19,
   "metadata": {},
   "outputs": [],
   "source": [
    "#Creating new dataset before 30days for testing!\n",
    "x = np.array(df.drop(['Prediction'],1))\n",
    "x = x[:-cast_out]\n",
    "y = np.array(df['Prediction'])\n",
    "y = y[:-cast_out]"
   ]
  },
  {
   "cell_type": "code",
   "execution_count": 20,
   "metadata": {},
   "outputs": [],
   "source": [
    "#Splitting and Training the data into 80 train and 20 testing\n",
    "x_training, x_testing, y_training, y_testing = train_test_split(x,y,test_size=0.33,random_state=52)"
   ]
  },
  {
   "cell_type": "code",
   "execution_count": 21,
   "metadata": {},
   "outputs": [
    {
     "name": "stdout",
     "output_type": "stream",
     "text": [
      "Data we are going to use: [[364.3999939 ]\n",
      " [390.        ]\n",
      " [382.        ]\n",
      " [387.        ]\n",
      " [390.        ]\n",
      " [417.        ]\n",
      " [415.1000061 ]\n",
      " [413.79998779]\n",
      " [413.70001221]\n",
      " [430.5       ]]\n"
     ]
    }
   ],
   "source": [
    "#Values to be predicted\n",
    "x_cast = np.array(df.drop(['Prediction'],1))[-cast_out:]\n",
    "print(\"Data we are going to use:\",x_cast)"
   ]
  },
  {
   "cell_type": "code",
   "execution_count": 23,
   "metadata": {},
   "outputs": [
    {
     "name": "stdout",
     "output_type": "stream",
     "text": [
      "0.9152151712898153\n",
      "Using Linear Regression : [array([365.93281032, 390.09174522, 382.54207987, 387.26062071,\n",
      "       390.09174522, 415.57186581, 413.77882604, 412.55198814,\n",
      "       412.45764037, 428.3119261 ])]\n"
     ]
    }
   ],
   "source": [
    "#Linear Regession model \\\n",
    "lr = LinearRegression()\n",
    "lr.fit(x_testing, y_testing)\n",
    "\n",
    "#Testing Linear Regression model\n",
    "lr_conf = lr.score(x_testing, y_testing)\n",
    "print(lr_conf)\n",
    "\n",
    "#Predicted values using LR\n",
    "lr_predit = [lr.predict(x_cast)]\n",
    "print(\"Using Linear Regression :\",lr_predit)"
   ]
  },
  {
   "cell_type": "code",
   "execution_count": null,
   "metadata": {},
   "outputs": [],
   "source": [
    "#Create and traing the SVM model\n",
    "svr_rbf = SVR(kernel='rbf',C=1e3,gamma=0.1)\n",
    "svr_rbf.fit(x_training, y_training)\n",
    "\n",
    "#testing this svm model# ## Gives the score\n",
    "svm_conf = svr_rbf.score(x_testing, y_testing)\n",
    "print(svm_conf)\n",
    "\n",
    "#Predicted values using SVM\n",
    "\n",
    "svr_predict = [svr_rbf.predict(x_cast)]\n",
    "print(\"Using SVR:\",svr_predict)"
   ]
  },
  {
   "cell_type": "code",
   "execution_count": null,
   "metadata": {},
   "outputs": [],
   "source": []
  }
 ],
 "metadata": {
  "kernelspec": {
   "display_name": "Python 3",
   "language": "python",
   "name": "python3"
  },
  "language_info": {
   "codemirror_mode": {
    "name": "ipython",
    "version": 3
   },
   "file_extension": ".py",
   "mimetype": "text/x-python",
   "name": "python",
   "nbconvert_exporter": "python",
   "pygments_lexer": "ipython3",
   "version": "3.8.5"
  }
 },
 "nbformat": 4,
 "nbformat_minor": 2
}
